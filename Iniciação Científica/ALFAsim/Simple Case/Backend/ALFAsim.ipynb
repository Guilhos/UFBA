{
 "cells": [
  {
   "cell_type": "markdown",
   "id": "5ab898af-c605-4ef4-953b-3ddba21b7ddb",
   "metadata": {},
   "source": [
    "# ALFAsim\n",
    "\n",
    "This document aims to describe the procedure to run ALFAsim simulations using directly the executable, from an `.alfacase` input file, bypassing the graphic user interface. The use of the API from [ALFAsim-sdk](https://alfasim-sdk.readthedocs.io/en/latest/plugins/01_quick_start.html) to access the simulation output is also described. "
   ]
  },
  {
   "cell_type": "markdown",
   "id": "4c261311",
   "metadata": {},
   "source": [
    "## Alfasim Runner"
   ]
  },
  {
   "cell_type": "code",
   "execution_count": 21,
   "id": "6670b175",
   "metadata": {},
   "outputs": [],
   "source": [
    "def execute_simulator(alfasim_runner: str, alfacase_file: str, alfasim_plugins_dir: str) -> int:\n",
    "    \"\"\"\n",
    "    Execute ALFAsim simulation bypassing the GUI from an .alfacase input file\n",
    "    @param alfasim_runner: \n",
    "        Path of ALFAsim executable file\n",
    "    @param working_dir:\n",
    "        Path of the directory containing the .alfacase input file\n",
    "    @param alfacase_file:\n",
    "        Path of the .alfacase input file\n",
    "    @param alfasim_plugins_dir:\n",
    "        Path of the directory containing the user plugins\n",
    "    \"\"\"\n",
    "    import os\n",
    "    import subprocess\n",
    "    import shutil\n",
    "    from pathlib import Path\n",
    "\n",
    "    env = os.environ.copy()\n",
    "\n",
    "    # Setting env variables needed\n",
    "    env.pop('LD_LIBRARY_PATH', None)\n",
    "    env['ALFASIM_PID_FILE_SECRET'] = 'w'\n",
    "    env['ALFASIM_PLUGINS_DIR'] = alfasim_plugins_dir\n",
    "    env['PYTHONUNBUFFERED'] = \"1\"\n",
    "    \n",
    "    omp_flag = \"--number-of-threads=0\"\n",
    "    omp_num_threads = os.getenv(\"OMP_NUM_THREADS\")\n",
    "    if omp_num_threads:\n",
    "        env['OMP_NUM_THREADS'] = omp_num_threads\n",
    "        omp_flag = \"\"\n",
    "\n",
    "    alfacase_path = Path(alfacase_file)\n",
    "    alfacase_filename = alfacase_path.stem\n",
    "\n",
    "    \"\"\" \n",
    "    Prepare directory used to store simulation files. Running simulation directly from cmd \n",
    "    bypasses part of the code responsible for manageing this directory so it is \n",
    "    done manually here.\n",
    "    \"\"\"\n",
    "    data_dir = alfacase_path.parent / (alfacase_filename + \".data\")\n",
    "    if data_dir.exists():\n",
    "        for item in data_dir.iterdir():\n",
    "            try:\n",
    "                if item.is_file() or item.is_symlink():\n",
    "                    item.unlink() \n",
    "                elif item.is_dir():\n",
    "                    shutil.rmtree(item)\n",
    "            except Exception as e:\n",
    "                print(f\"Failed to delete {item}. Reason: {e}\")\n",
    "    else:\n",
    "        data_dir.mkdir(parents=True)\n",
    "    \n",
    "    cmd = [\n",
    "        alfasim_runner,\n",
    "        \"--run-simulation\",\n",
    "        \"--alfacase-file\",\n",
    "        alfacase_file,\n",
    "        omp_flag,\n",
    "    ]\n",
    "\n",
    "    output = subprocess.run(\n",
    "        cmd,\n",
    "        env=env,\n",
    "    )\n",
    "\n",
    "    print(f'ALFAsim return code = {output}')\n",
    "\n",
    "    return output.returncode"
   ]
  },
  {
   "cell_type": "markdown",
   "id": "02d506c6",
   "metadata": {},
   "source": [
    "## Setup paths and run simulation"
   ]
  },
  {
   "cell_type": "code",
   "execution_count": 22,
   "id": "bdc485f8",
   "metadata": {},
   "outputs": [
    {
     "name": "stdout",
     "output_type": "stream",
     "text": [
      "ALFAsim return code = CompletedProcess(args=['C:\\\\Program Files\\\\ESSS\\\\ALFAsim 2024.2\\\\bin\\\\ALFAsim.exe', '--run-simulation', '--alfacase-file', '.\\\\simple_case.alfacase', '--number-of-threads=0'], returncode=0)\n"
     ]
    }
   ],
   "source": [
    "# Path to the ALFAsim executable \n",
    "alfasim_path = \"C:\\\\Program Files\\\\ESSS\\\\ALFAsim 2024.2\\\\bin\\\\ALFAsim.exe\"\n",
    "\n",
    "# Plugin instalation path. Default is \"C:\\\\Users\\\\<user>\\\\.alfasim_plugins\"\n",
    "alfasim_plugins_dir = \"C:\\\\Users\\\\guilh\\\\.alfasim_plugins\" \n",
    "\n",
    "# Directory containing the .alfacase input file\n",
    "alfacase_file = \".\\\\simple_case.alfacase\" \n",
    "\n",
    "return_code = execute_simulator(alfasim_path, alfacase_file, alfasim_plugins_dir)\n"
   ]
  },
  {
   "cell_type": "markdown",
   "id": "8538ecdf-3645-47df-9e46-12c22c82056c",
   "metadata": {},
   "source": [
    "## Getting results\n",
    "Alfasim-SDK provides an API to handle ALFAsim simulation outputs through the class `Results`. The ALFAsim-SDK is a Python package that helps developers in the process to create a Plugin for ALFAsim and access simulation results. \n",
    "\n",
    "It is recommended installing ALFAsim-SDK using the conda package manager. With the commands below, a conda environment will be created with ALFAsim-SDK installed on it:\n",
    "```console\n",
    ">>> conda create -n sdk_env\n",
    ">>> conda activate sdk_env\n",
    ">>> pip install alfasim-sdk\n",
    "```\n",
    "\n",
    "Alternatively, an environment.yml could be added to your project with `alfasim-sdk` declared at pip dependencies. For more details, see [Getting started with conda](https://conda.io/projects/conda/en/latest/user-guide/getting-started.html)."
   ]
  },
  {
   "cell_type": "code",
   "execution_count": 13,
   "id": "487847f7",
   "metadata": {},
   "outputs": [],
   "source": [
    "from alfasim_sdk.result_reader.reader import Results\n",
    "from pathlib import Path\n",
    "\n",
    "alfacase_path = Path(alfacase_file) \n",
    "alfacase_name = alfacase_path.stem\n",
    "results_path = alfacase_path.parent / (alfacase_name + \".data\")\n",
    "\n",
    "results = Results(results_path)\n"
   ]
  },
  {
   "cell_type": "markdown",
   "id": "d03ee98f-99d3-4bd5-8d16-cbdf2c2d38ca",
   "metadata": {},
   "source": [
    "The method `list_profiles` lists all the profile curves available in the output file"
   ]
  },
  {
   "cell_type": "code",
   "execution_count": 14,
   "id": "a120b4da",
   "metadata": {},
   "outputs": [
    {
     "data": {
      "text/plain": [
       "[ProfileMetadata(property_name='elevation', element_name='Conn 1', timesteps_count=12),\n",
       " ProfileMetadata(property_name='flow pattern', element_name='Conn 1', timesteps_count=12),\n",
       " ProfileMetadata(property_name='gas phase volume fraction', element_name='Conn 1', timesteps_count=12),\n",
       " ProfileMetadata(property_name='holdup', element_name='Conn 1', timesteps_count=12),\n",
       " ProfileMetadata(property_name='liquid mass flow rate', element_name='Conn 1', timesteps_count=12),\n",
       " ProfileMetadata(property_name='liquid volumetric flow rate std', element_name='Conn 1', timesteps_count=12),\n",
       " ProfileMetadata(property_name='mixture temperature', element_name='Conn 1', timesteps_count=12),\n",
       " ProfileMetadata(property_name='oil phase volume fraction', element_name='Conn 1', timesteps_count=12),\n",
       " ProfileMetadata(property_name='pressure', element_name='Conn 1', timesteps_count=12),\n",
       " ProfileMetadata(property_name='total gas mass flow rate', element_name='Conn 1', timesteps_count=12),\n",
       " ProfileMetadata(property_name='total gas volumetric flow rate std', element_name='Conn 1', timesteps_count=12),\n",
       " ProfileMetadata(property_name='total mass flow rate', element_name='Conn 1', timesteps_count=12),\n",
       " ProfileMetadata(property_name='total oil mass flow rate', element_name='Conn 1', timesteps_count=12),\n",
       " ProfileMetadata(property_name='total oil volumetric flow rate std', element_name='Conn 1', timesteps_count=12),\n",
       " ProfileMetadata(property_name='total water mass flow rate', element_name='Conn 1', timesteps_count=12),\n",
       " ProfileMetadata(property_name='total water volumetric flow rate std', element_name='Conn 1', timesteps_count=12),\n",
       " ProfileMetadata(property_name='water phase volume fraction', element_name='Conn 1', timesteps_count=12)]"
      ]
     },
     "execution_count": 14,
     "metadata": {},
     "output_type": "execute_result"
    }
   ],
   "source": [
    "results.list_profiles()"
   ]
  },
  {
   "cell_type": "markdown",
   "id": "f760cc3b-5a65-4760-9dd2-b5c58e7fc3a7",
   "metadata": {},
   "source": [
    "The method `get_profile_curve` can be used to retrieve the curve of each property available in output. It receives the propery name, the name of the element in the network and the time step counter. Values available are shown above, using `list_profiles`. It returns a `Curve` object that contains the domain, image and unit of the property. "
   ]
  },
  {
   "cell_type": "code",
   "execution_count": 15,
   "id": "e83ae722",
   "metadata": {},
   "outputs": [
    {
     "name": "stdout",
     "output_type": "stream",
     "text": [
      "Curve(K, m)[(323.15, 0.0) (323.18263207442436, 100.0) (323.2149852075425, 200.0) (323.24734093674834, 300.0) (323.2802472923024, 400.0) (323.3136738248617, 500.0) (323.3469490290432, 600.0) (323.38021388490336, 700.0) (323.4137189733456, 800.0) (323.44400072725665, 900.0) (323.44400072725665, 1000.0)]\n"
     ]
    }
   ],
   "source": [
    "\n",
    "temperature_curve = results.get_profile_curve( \"mixture temperature\", \"Conn 1\", 11)\n",
    "print(temperature_curve)"
   ]
  },
  {
   "cell_type": "markdown",
   "id": "71e0c14d-7fb1-44e5-b02a-8f4e1b7111c6",
   "metadata": {},
   "source": [
    "The domain and image of the curve are accessed with `GetDomain` and `GetImage`, respectively. They return an `Array` object from [barril](https://barril.readthedocs.io/en/latest/api.html#array):"
   ]
  },
  {
   "cell_type": "code",
   "execution_count": 16,
   "id": "d56e0ee7-228d-4222-bda8-b3a88c5ead30",
   "metadata": {},
   "outputs": [
    {
     "name": "stdout",
     "output_type": "stream",
     "text": [
      "0 100 200 300 400 500 600 700 800 900 1000 [m]\n",
      "323.15 323.183 323.215 323.247 323.28 323.314 323.347 323.38 323.414 323.444 323.444 [K]\n",
      "[50.         50.03263207 50.06498521 50.09734094 50.13024729 50.16367382\n",
      " 50.19694903 50.23021388 50.26371897 50.29400073 50.29400073]\n"
     ]
    }
   ],
   "source": [
    "temperature_domain = temperature_curve.GetDomain()\n",
    "temperature_image = temperature_curve.GetImage()\n",
    "\n",
    "# Array with domaing values and unit\n",
    "print(temperature_domain) \n",
    "\n",
    "# Array with image values and unit\n",
    "print(temperature_image) \n",
    "\n",
    " # numpy array with image values converted to degC\n",
    "print(temperature_image.GetValues(\"degC\"))"
   ]
  },
  {
   "cell_type": "markdown",
   "id": "7e7aaa40-f1e8-4bfe-aaa9-2e070f3a9b07",
   "metadata": {},
   "source": [
    "`list_global_trends` returns all the global trends available in the output."
   ]
  },
  {
   "cell_type": "code",
   "execution_count": 17,
   "id": "b98b828a-77ce-4077-87b6-ff8096f35dbd",
   "metadata": {},
   "outputs": [
    {
     "data": {
      "text/plain": [
       "[GlobalTrendMetadata(property_name='timestep'),\n",
       " GlobalTrendMetadata(property_name='timestep')]"
      ]
     },
     "execution_count": 17,
     "metadata": {},
     "output_type": "execute_result"
    }
   ],
   "source": [
    "results.list_global_trends()"
   ]
  },
  {
   "cell_type": "markdown",
   "id": "eba0be04-d638-4e70-816a-8e458a4bf19e",
   "metadata": {},
   "source": [
    "A global trend curve can be accessed with `get_global_trend_curve` passing the property name. Again, a `Curve` object is returned."
   ]
  },
  {
   "cell_type": "code",
   "execution_count": 18,
   "id": "6c144d9a-d912-4006-8ff8-70db525e7d31",
   "metadata": {},
   "outputs": [
    {
     "name": "stdout",
     "output_type": "stream",
     "text": [
      "0 296.553 596.553 896.553 1196.55 1496.55 1796.55 2096.55 2396.55 2696.55 2996.55 3296.55 3596.55 3601.55 [s]\n",
      "0.0001 5 5 5 5 5 5 5 5 5 5 5 5 5 [s]\n"
     ]
    }
   ],
   "source": [
    "timestep_trend = results.get_global_trend_curve(\"timestep\")\n",
    "\n",
    "print(timestep_trend.GetDomain())\n",
    "print(timestep_trend.GetImage())"
   ]
  },
  {
   "cell_type": "markdown",
   "id": "0c098068-3a32-4b87-8a79-bfbd0271ffee",
   "metadata": {},
   "source": [
    "A list of all positional trends can be accessed with `list_positiona_trends`."
   ]
  },
  {
   "cell_type": "code",
   "execution_count": 19,
   "id": "cf9713e6-a4f5-4f32-ae2f-e4b08dcd2dc5",
   "metadata": {},
   "outputs": [
    {
     "data": {
      "text/plain": [
       "[PositionalTrendMetadata(property_name='elevation', element_name='Conn 1', position=Scalar(50.0, 'm', 'length')),\n",
       " PositionalTrendMetadata(property_name='flow pattern', element_name='Conn 1', position=Scalar(50.0, 'm', 'length')),\n",
       " PositionalTrendMetadata(property_name='gas phase volume fraction', element_name='Conn 1', position=Scalar(50.0, 'm', 'length')),\n",
       " PositionalTrendMetadata(property_name='holdup', element_name='Conn 1', position=Scalar(50.0, 'm', 'length')),\n",
       " PositionalTrendMetadata(property_name='liquid mass flow rate', element_name='Conn 1', position=Scalar(50.0, 'm', 'length')),\n",
       " PositionalTrendMetadata(property_name='liquid volumetric flow rate std', element_name='Conn 1', position=Scalar(50.0, 'm', 'length')),\n",
       " PositionalTrendMetadata(property_name='mixture temperature', element_name='Conn 1', position=Scalar(50.0, 'm', 'length')),\n",
       " PositionalTrendMetadata(property_name='oil phase volume fraction', element_name='Conn 1', position=Scalar(50.0, 'm', 'length')),\n",
       " PositionalTrendMetadata(property_name='pressure', element_name='Conn 1', position=Scalar(50.0, 'm', 'length')),\n",
       " PositionalTrendMetadata(property_name='total gas mass flow rate', element_name='Conn 1', position=Scalar(50.0, 'm', 'length')),\n",
       " PositionalTrendMetadata(property_name='total gas volumetric flow rate std', element_name='Conn 1', position=Scalar(50.0, 'm', 'length')),\n",
       " PositionalTrendMetadata(property_name='total mass flow rate', element_name='Conn 1', position=Scalar(50.0, 'm', 'length')),\n",
       " PositionalTrendMetadata(property_name='total oil mass flow rate', element_name='Conn 1', position=Scalar(50.0, 'm', 'length')),\n",
       " PositionalTrendMetadata(property_name='total oil volumetric flow rate std', element_name='Conn 1', position=Scalar(50.0, 'm', 'length')),\n",
       " PositionalTrendMetadata(property_name='total water mass flow rate', element_name='Conn 1', position=Scalar(50.0, 'm', 'length')),\n",
       " PositionalTrendMetadata(property_name='total water volumetric flow rate std', element_name='Conn 1', position=Scalar(50.0, 'm', 'length')),\n",
       " PositionalTrendMetadata(property_name='water phase volume fraction', element_name='Conn 1', position=Scalar(50.0, 'm', 'length'))]"
      ]
     },
     "execution_count": 19,
     "metadata": {},
     "output_type": "execute_result"
    }
   ],
   "source": [
    "results.list_positional_trends()"
   ]
  },
  {
   "cell_type": "markdown",
   "id": "fe2ef470-89d8-40cc-b338-69607d5db67d",
   "metadata": {},
   "source": [
    "Any positional trend curve listed above can be accessed with get_positional_trend_curve passing the property name, the name of the element in the network and the position of the trend, which is a tuple of the position (float) and its unit (string). Again, a Curve object is returned.\n"
   ]
  },
  {
   "cell_type": "code",
   "execution_count": 20,
   "id": "9c876801-c6cd-4217-b28a-3fda72f27d38",
   "metadata": {},
   "outputs": [
    {
     "name": "stdout",
     "output_type": "stream",
     "text": [
      "5e+06 4.90707e+06 4.90725e+06 4.9071e+06 4.90708e+06 4.90708e+06 4.90708e+06 4.90708e+06 4.90708e+06 4.90708e+06 4.90708e+06 4.90708e+06 4.90708e+06 4.90708e+06 [Pa]\n",
      "[725.18871949 711.70993959 711.73680395 711.71501006 711.71120119\n",
      " 711.71189265 711.71109464 711.71124919 711.71150762 711.71177025\n",
      " 711.71197146 711.7121164  711.71221867 711.71222008]\n"
     ]
    }
   ],
   "source": [
    "pressure_trend_curve = results.get_positional_trend_curve(\"pressure\", \"Conn 1\", (50, \"m\"))\n",
    "\n",
    "# Array with pressure curve image values and unit\n",
    "print(pressure_trend_curve.GetImage())  \n",
    "\n",
    "# numpy array with pressure curve image values in psi\n",
    "print(pressure_trend_curve.GetImage().GetValues(\"psi\"))"
   ]
  },
  {
   "cell_type": "code",
   "execution_count": null,
   "id": "6ba28f92-b72d-4a73-85b1-b7b6c40d3b4c",
   "metadata": {},
   "outputs": [],
   "source": []
  }
 ],
 "metadata": {
  "kernelspec": {
   "display_name": "Python 3",
   "language": "python",
   "name": "python3"
  },
  "language_info": {
   "codemirror_mode": {
    "name": "ipython",
    "version": 3
   },
   "file_extension": ".py",
   "mimetype": "text/x-python",
   "name": "python",
   "nbconvert_exporter": "python",
   "pygments_lexer": "ipython3",
   "version": "3.13.1"
  }
 },
 "nbformat": 4,
 "nbformat_minor": 5
}
