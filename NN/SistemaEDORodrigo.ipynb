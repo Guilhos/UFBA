{
 "cells": [
  {
   "cell_type": "markdown",
   "metadata": {},
   "source": [
    "\n",
    "\n",
    "$ \\frac{d\\dot{m}}{dt} = \\frac{A_1}{L_C}(\\phi (N(t), \\dot{m})P_1 - P_P(t)) $\n",
    "\n",
    "$ \\frac{d P_P}{dt} = \\frac{C_1^2}{\\nu _P}(\\dot{m}(t) - \\alpha (t) K_\\nu \\sqrt{P_P - P_{out}}) $\n",
    "\n",
    "$ \\begin{matrix} A_1 & = & 2.6\\centerdot 10^-3 m² \\\\\n",
    "    \\nu _P & = & 2.0 m³ \\\\\n",
    "    L_C & = & 2.0 m \\\\\n",
    "    K_\\nu & = & \\frac{0.38 kg}{(10^{-5}kBar)^{0.5}s} \\\\\n",
    "    P_1 & = & 8.5\\centerdot 10^{-5} MBar \\\\\n",
    "    P{out} & = & 5.0\\centerdot 10^{-5} MBar \\end{matrix}\n",
    "$\n",
    "\n",
    "$ \\frac{d\\dot{m}}{dt} = \\frac{2.6\\centerdot 10^{-3} m²}{2.0 m}(1.5\\centerdot 8.5\\centerdot 10^{-5} MBar - P_P(t)) $\n",
    "\n",
    "$ \\frac{d P_P}{dt} = \\frac{C_1^2}{2.0 m³}(\\dot{m}(t) - \\alpha (t) \\frac{0.38 kg}{(10^{-5}kBar)^{0.5}s} \\sqrt{P_P - 5.0\\centerdot 10^{-5} MBar}) $\n"
   ]
  },
  {
   "cell_type": "code",
   "execution_count": null,
   "metadata": {},
   "outputs": [],
   "source": [
    "import deepxde as dde\n",
    "import numpy as np\n",
    "\n",
    "geom = dde.geometry.TimeDomain(0,10) # O sistema irá variar de 0 a 10 segundos\n",
    "\n",
    "def sistema_EDO(x,y): # Função que retorna os valores da EDO\n",
    "    C, a = 69, 420\n",
    "    m, PP = y[:, 0:1],y[:,1:]\n",
    "    dm_t = dde.grad.jacobian(y,x,i=0)\n",
    "    dPP_t = dde.grad.jacobian(y,x,i=0)\n",
    "    return [dm_t - 2.6*(10^-3)*(1.5*8.5*(10^-5) - PP)/2, \n",
    "            dPP_t - C^2*(dm_t - a*(0.38/((10^-5)^0.5))*np.sqrt(PP - 5.0*(10^-5)))]\n",
    "\n",
    "def boundary(_, on_initial):\n",
    "    return on_initial\n",
    "\n",
    "ic = dde.icbc.IC(geom, lambda x: 0, boundary)\n",
    "\n"
   ]
  }
 ],
 "metadata": {
  "kernelspec": {
   "display_name": "Python 3",
   "language": "python",
   "name": "python3"
  },
  "language_info": {
   "codemirror_mode": {
    "name": "ipython",
    "version": 3
   },
   "file_extension": ".py",
   "mimetype": "text/x-python",
   "name": "python",
   "nbconvert_exporter": "python",
   "pygments_lexer": "ipython3",
   "version": "3.12.4"
  }
 },
 "nbformat": 4,
 "nbformat_minor": 2
}
