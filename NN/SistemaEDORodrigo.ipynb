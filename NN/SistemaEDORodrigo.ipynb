{
 "cells": [
  {
   "cell_type": "markdown",
   "metadata": {},
   "source": [
    "\n",
    "\n",
    "$ \\frac{d\\dot{m}}{dt} = \\frac{A_1}{L_C}(\\phi (N(t), \\dot{m})P_1 - P_P(t)) $\n",
    "\n",
    "$ \\frac{d P_P}{dt} = \\frac{C_1^2}{\\nu _P}(\\dot{m}(t) - \\alpha (t) K_\\nu \\sqrt{P_P - P_{out}}) $\n",
    "\n",
    "$ \\begin{matrix} A_1 & = & 2.6\\centerdot 10^-3 m² \\\\\n",
    "    \\nu _P & = & 2.0 m³ \\\\\n",
    "    L_C & = & 2.0 m \\\\\n",
    "    K_\\nu & = & \\frac{0.38 kg}{(10^{-5}kBar)^{0.5}s} \\\\\n",
    "    P_1 & = & 4.5 Bar \\\\\n",
    "    P{out} & = & 5.0 Bar \\end{matrix}\n",
    "$\n",
    "\n",
    "$ \\frac{d\\dot{m}}{dt} = \\frac{2.6\\centerdot 10^{-3}}{2.0}(1.5\\centerdot 4.5 - P_P) $\n",
    "\n",
    "$ \\frac{d P_P}{dt} = \\frac{479.029^2}{2.0}(\\dot{m} - \\alpha \\frac{0.38}{(10^{-5})^{0.5}} \\sqrt{P_P - 5.0}) $\n"
   ]
  },
  {
   "cell_type": "code",
   "execution_count": 249,
   "metadata": {},
   "outputs": [],
   "source": [
    "import deepxde as dde\n",
    "import numpy as np\n",
    "from scipy.integrate import solve_ivp\n",
    "import matplotlib.pyplot as plt\n",
    "\n",
    "np.random.seed(5)\n",
    "t = np.linspace(0,300,500)\n",
    "\n",
    "def getAlpha(t):\n",
    "    alpha = 0\n",
    "    if (t < 60) or (120 <= t < 180) or (240 <= t <= 300):\n",
    "        alpha = 0.5\n",
    "    elif 60 <= t < 120:\n",
    "        alpha = 0.46\n",
    "    elif 180 <= t < 240:\n",
    "        alpha = 0.54\n",
    "    return alpha\n",
    "\n",
    "def modelSys(t,x):\n",
    "    m, p = x\n",
    "    \n",
    "    if (p-5)<0:\n",
    "        p=5\n",
    "\n",
    "    m_t = (2.6e-3)*(1.5*4.5 - p)/2\n",
    "    p_t = (479e2)*(m - getAlpha(t)*(0.38*100*np.sqrt(10))*np.sqrt(p-5))/2\n",
    "    return [m_t, p_t]\n",
    "\n",
    "x0 = [(19*np.sqrt(7)*np.sqrt(10))/2, 27/4]\n",
    "\n",
    "sol = solve_ivp(modelSys,[0,300], x0,t_eval=t)\n",
    "print(sol)\n",
    "plt.subplot(1,2,1)\n",
    "plt.plot(sol.t,sol.y[0])\n",
    "plt.subplot(1,2,2)\n",
    "plt.plot(sol.t,sol.y[1])\n",
    "\n",
    "plt.show()"
   ]
  },
  {
   "cell_type": "code",
   "execution_count": 241,
   "metadata": {},
   "outputs": [],
   "source": [
    "geom = dde.geometry.TimeDomain(0,300) # O sistema irá variar de 0 a 300 segundos\n",
    "\n",
    "\n",
    "\n",
    "def boundary(_, on_initial):\n",
    "    return on_initial\n",
    "\n",
    "ic = dde.icbc.IC(geom, lambda x: 0, boundary)\n",
    "\n",
    "net = dde.nn.FNN([1] + [30]*4 + [2], 'tanh', 'Glorot uniform')\n",
    "\n"
   ]
  }
 ],
 "metadata": {
  "kernelspec": {
   "display_name": "Python 3",
   "language": "python",
   "name": "python3"
  },
  "language_info": {
   "codemirror_mode": {
    "name": "ipython",
    "version": 3
   },
   "file_extension": ".py",
   "mimetype": "text/x-python",
   "name": "python",
   "nbconvert_exporter": "python",
   "pygments_lexer": "ipython3",
   "version": "3.10.12"
  }
 },
 "nbformat": 4,
 "nbformat_minor": 2
}
