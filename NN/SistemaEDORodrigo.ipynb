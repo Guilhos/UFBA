{
 "cells": [
  {
   "cell_type": "markdown",
   "metadata": {},
   "source": [
    "\n",
    "\n",
    "$ \\frac{d\\dot{m}}{dt} = \\frac{A_1}{L_C}(\\phi (N(t), \\dot{m})P_1 - P_P(t)) $\n",
    "\n",
    "$ \\frac{d P_P}{dt} = \\frac{C_1^2}{\\nu _P}(\\dot{m}(t) - \\alpha (t) K_\\nu \\sqrt{P_P - P_{out}}) $\n",
    "\n",
    "$ \\begin{matrix} A_1 & = & 2.6\\centerdot 10^-3 m² \\\\\n",
    "    \\nu _P & = & 2.0 m³ \\\\\n",
    "    L_C & = & 2.0 m \\\\\n",
    "    K_\\nu & = & \\frac{0.38 kg}{(10^{-5}kBar)^{0.5}s} \\\\\n",
    "    P_1 & = & 8.5 Bar \\\\\n",
    "    P{out} & = & 5.0 Bar \\end{matrix}\n",
    "$\n",
    "\n",
    "$ \\frac{d\\dot{m}}{dt} = \\frac{2.6\\centerdot 10^{-3}}{2.0}(1.5\\centerdot 8.5 - P_P) $\n",
    "\n",
    "$ \\frac{d P_P}{dt} = \\frac{200^2}{2.0}(\\dot{m} - \\alpha \\frac{0.38}{(10^{-5})^{0.5}} \\sqrt{P_P - 5.0}) $\n"
   ]
  },
  {
   "cell_type": "code",
   "execution_count": 137,
   "metadata": {},
   "outputs": [
    {
     "name": "stderr",
     "output_type": "stream",
     "text": [
      "C:\\Users\\guiar\\AppData\\Local\\Temp\\ipykernel_6556\\77553756.py:21: RuntimeWarning: invalid value encountered in sqrt\n",
      "  p_t = 40000*(m - getAlpha(t)*(0.38*100*np.sqrt(10))*np.sqrt(p - 5.0))/2\n",
      "C:\\Users\\guiar\\AppData\\Local\\Temp\\ipykernel_6556\\77553756.py:26: ODEintWarning: Excess accuracy requested (tolerances too small). Run with full_output = 1 to get quantitative information.\n",
      "  z = odeint(modelSys, z0, t)\n"
     ]
    },
    {
     "data": {
      "text/plain": [
       "<function matplotlib.pyplot.show(close=None, block=None)>"
      ]
     },
     "execution_count": 137,
     "metadata": {},
     "output_type": "execute_result"
    },
    {
     "data": {
      "image/png": "[encoded data removed]",
      "text/plain": [
       "<Figure size 640x480 with 1 Axes>"
      ]
     },
     "metadata": {},
     "output_type": "display_data"
    }
   ],
   "source": [
    "import deepxde as dde\n",
    "import numpy as np\n",
    "from scipy.integrate import odeint\n",
    "import matplotlib.pyplot as plt\n",
    "\n",
    "t = np.arange(0,300)\n",
    "\n",
    "def getAlpha(t):\n",
    "    alpha = 0.1\n",
    "    if t < 60 or 120 <= t < 180 or 240 <= t <= 300:\n",
    "        alpha = 0.5\n",
    "    elif 60 <= t < 120:\n",
    "        alpha = 0.46\n",
    "    elif 180 <= t < 240:\n",
    "        alpha = 0.54\n",
    "    return alpha\n",
    "\n",
    "def modelSys(z,t):\n",
    "    m,p = z\n",
    "    m_t = 2.6*(10^-3)*(1.5*8.5 - p)/2\n",
    "    p_t = 40000*(m - getAlpha(t)*(0.38*100*np.sqrt(10))*np.sqrt(p - 5.0))/2\n",
    "    return [m_t, p_t]\n",
    "\n",
    "z0 = [0,0]\n",
    "\n",
    "z = odeint(modelSys, z0, t)\n",
    "\n",
    "plt.plot(t,z[:,0],label='m(t)')\n",
    "plt.plot(t,z[:,1],label='p(t)')\n",
    "plt.show"
   ]
  },
  {
   "cell_type": "code",
   "execution_count": null,
   "metadata": {},
   "outputs": [],
   "source": [
    "geom = dde.geometry.TimeDomain(0,300) # O sistema irá variar de 0 a 300 segundos\n",
    "\n",
    "def sistema_EDO(x,y): # Função que retorna os valores da EDO\n",
    "    m, PP = y[:, 0:1],y[:,1:]\n",
    "    dm_t = dde.grad.jacobian(y,x,i=0)\n",
    "    dPP_t = dde.grad.jacobian(y,x,i=1)\n",
    "    return [dm_t - 2.6*(10^-3)*(1.5*8.5 - PP)/2, \n",
    "            dPP_t - 200^2*(m - getAlpha(x)*(0.38/((10^-5)^0.5))*np.sqrt(PP - 5.0))/2]\n",
    "\n",
    "def boundary(_, on_initial):\n",
    "    return on_initial\n",
    "\n",
    "ic = dde.icbc.IC(geom, lambda x: 0, boundary)\n",
    "\n",
    "net = dde.nn.FNN([1] + [30]*4 + [2], 'tanh', 'Glorto uniform')\n",
    "\n"
   ]
  }
 ],
 "metadata": {
  "kernelspec": {
   "display_name": "Python 3",
   "language": "python",
   "name": "python3"
  },
  "language_info": {
   "codemirror_mode": {
    "name": "ipython",
    "version": 3
   },
   "file_extension": ".py",
   "mimetype": "text/x-python",
   "name": "python",
   "nbconvert_exporter": "python",
   "pygments_lexer": "ipython3",
   "version": "3.12.4"
  }
 },
 "nbformat": 4,
 "nbformat_minor": 2
}
